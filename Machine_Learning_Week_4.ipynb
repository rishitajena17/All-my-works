{
  "nbformat": 4,
  "nbformat_minor": 0,
  "metadata": {
    "colab": {
      "provenance": []
    },
    "kernelspec": {
      "name": "python3",
      "display_name": "Python 3"
    },
    "language_info": {
      "name": "python"
    }
  },
  "cells": [
    {
      "cell_type": "code",
      "execution_count": 57,
      "metadata": {
        "id": "f3E1NgxvFI3L",
        "colab": {
          "base_uri": "https://localhost:8080/"
        },
        "outputId": "2904afed-cdf1-40ae-a27c-80a0a2296819"
      },
      "outputs": [
        {
          "output_type": "stream",
          "name": "stdout",
          "text": [
            "{'max_depth': 3, 'min_samples_leaf': 1, 'min_samples_split': 2}\n",
            "Accuracy score: 1.0\n",
            "Confusion matrix:\n",
            " [[2592    0]\n",
            " [   0  460]]\n"
          ]
        }
      ],
      "source": [
        "import pandas as pd\n",
        "from sklearn.tree import DecisionTreeClassifier\n",
        "from sklearn.model_selection import train_test_split, GridSearchCV\n",
        "from sklearn.metrics import accuracy_score, confusion_matrix\n",
        "from sklearn.preprocessing import LabelEncoder\n",
        "\n",
        "df = pd.read_csv('online_shoppers_intention.csv')\n",
        "df.dropna(inplace=True)\n",
        "df = df.drop_duplicates()\n",
        "df = df.drop('Month', axis=1)\n",
        "df['Purchased'] = df['Revenue'] > 0\n",
        "\n",
        "for column in df.select_dtypes(include='object'):\n",
        "    encoder = LabelEncoder()\n",
        "    df[column] = encoder.fit_transform(df[column])\n",
        "\n",
        "X_train, X_test, y_train, y_test = train_test_split(df.drop('Purchased', axis=1), df['Purchased'], test_size=0.25)\n",
        "model = DecisionTreeClassifier(random_state=42)\n",
        "param_grid = {\n",
        "    'max_depth': [3, 5, 7, 9],\n",
        "    'min_samples_split': [2, 5, 10],\n",
        "    'min_samples_leaf': [1, 2, 5]\n",
        "}\n",
        "\n",
        "grid_search = GridSearchCV(model, param_grid, scoring='accuracy', cv=5)\n",
        "grid_search.fit(X_train, y_train)\n",
        "\n",
        "print(grid_search.best_params_)\n",
        "\n",
        "accuracy = accuracy_score(y_test, grid_search.predict(X_test))\n",
        "print(\"Accuracy score:\", accuracy)\n",
        "\n",
        "confusion_matrix = confusion_matrix(y_test, grid_search.predict(X_test))\n",
        "print(\"Confusion matrix:\\n\", confusion_matrix)\n"
      ]
    },
    {
      "cell_type": "code",
      "source": [
        "import pandas as pd\n",
        "import numpy as np\n",
        "from sklearn.model_selection import train_test_split\n",
        "from sklearn.linear_model import LinearRegression\n",
        "from sklearn.metrics import mean_squared_error, r2_score\n",
        "\n",
        "df = pd.DataFrame({'dteday': ['01-01-2018', '02-01-2018', '29-08-2018', '09-08-2018', '10-08-2018', '11-08-2018', '12-08-2018', '13-08-2018', '14-08-2018'], 'cnt': [1, 2, 3, 4, 5, 6, 7, 8, 9]})\n",
        "df['dteday'] = pd.to_datetime(df['dteday'], format='%d-%m-%Y')\n",
        "df['dteday'] = pd.to_numeric(df['dteday'], errors='coerce')\n",
        "df = df.dropna()\n",
        "\n",
        "X_train, X_test, y_train, y_test = train_test_split(df.drop('cnt', axis=1), df['cnt'], test_size=0.2)\n",
        "model = LinearRegression()\n",
        "model.fit(X_train, y_train)\n",
        "\n",
        "y_pred = model.predict(X_test)\n",
        "rmse = mean_squared_error(y_test, y_pred)\n",
        "r2 = r2_score(y_test, y_pred)\n",
        "\n",
        "print('RMSE:', rmse)\n",
        "print('R-squared:', r2)\n"
      ],
      "metadata": {
        "colab": {
          "base_uri": "https://localhost:8080/"
        },
        "id": "66grPOKwSfOX",
        "outputId": "ca172c1b-e549-483f-e102-d3bcbd7c4d37"
      },
      "execution_count": 58,
      "outputs": [
        {
          "output_type": "stream",
          "name": "stdout",
          "text": [
            "RMSE: 3.862285016847045\n",
            "R-squared: 0.034428745788238735\n"
          ]
        }
      ]
    }
  ]
}